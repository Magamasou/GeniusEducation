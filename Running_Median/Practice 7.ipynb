{
 "cells": [
  {
   "cell_type": "markdown",
   "id": "10e1e938",
   "metadata": {},
   "source": [
    "# Konsep dari koleksi"
   ]
  },
  {
   "cell_type": "code",
   "execution_count": 1,
   "id": "3ccb0c71",
   "metadata": {},
   "outputs": [
    {
     "name": "stdout",
     "output_type": "stream",
     "text": [
      "2\n"
     ]
    }
   ],
   "source": [
    "a=(6,5,4,[1,2,3])\n",
    "print(a[3][1])"
   ]
  },
  {
   "cell_type": "code",
   "execution_count": 2,
   "id": "8e258dc3",
   "metadata": {},
   "outputs": [
    {
     "name": "stdout",
     "output_type": "stream",
     "text": [
      "7\n"
     ]
    }
   ],
   "source": [
    "a=(6,5,4,[1,2,3])\n",
    "a[3][1]=7\n",
    "print(a[3][1])"
   ]
  },
  {
   "cell_type": "markdown",
   "id": "abebcf28",
   "metadata": {},
   "source": [
    "# List dan loop"
   ]
  },
  {
   "cell_type": "code",
   "execution_count": 4,
   "id": "5dc1bc52",
   "metadata": {},
   "outputs": [
    {
     "name": "stdout",
     "output_type": "stream",
     "text": [
      "20\n"
     ]
    }
   ],
   "source": [
    "angka=[1,4,10,5]\n",
    "total=sum(angka)\n",
    "print(total)"
   ]
  },
  {
   "cell_type": "markdown",
   "id": "ca368cc1",
   "metadata": {},
   "source": [
    "# List mutability"
   ]
  },
  {
   "cell_type": "code",
   "execution_count": 6,
   "id": "4785a463",
   "metadata": {},
   "outputs": [
    {
     "name": "stdout",
     "output_type": "stream",
     "text": [
      "88\n"
     ]
    }
   ],
   "source": [
    "nomor = [1,4,6,8,0]\n",
    "nomor[1]=88\n",
    "print(nomor[1])"
   ]
  },
  {
   "cell_type": "code",
   "execution_count": 7,
   "id": "dff9b9e6",
   "metadata": {},
   "outputs": [
    {
     "name": "stdout",
     "output_type": "stream",
     "text": [
      "[1, 88, 6, 8, 0]\n"
     ]
    }
   ],
   "source": [
    "print(nomor)"
   ]
  },
  {
   "cell_type": "code",
   "execution_count": 8,
   "id": "a1caad04",
   "metadata": {},
   "outputs": [
    {
     "name": "stdout",
     "output_type": "stream",
     "text": [
      "(11, 6, 4, [1, 7, 3])\n"
     ]
    }
   ],
   "source": [
    "a=(11,6,4,[1,2,3])\n",
    "a[3][1]=7\n",
    "print(a)"
   ]
  },
  {
   "cell_type": "markdown",
   "id": "3907543f",
   "metadata": {},
   "source": [
    "# Fungsi dari list"
   ]
  },
  {
   "cell_type": "code",
   "execution_count": 9,
   "id": "c345ba08",
   "metadata": {},
   "outputs": [
    {
     "name": "stdout",
     "output_type": "stream",
     "text": [
      "102\n"
     ]
    }
   ],
   "source": [
    "list_angka=[11,5,70,102,12.4,9]\n",
    "print(max(list_angka))"
   ]
  },
  {
   "cell_type": "code",
   "execution_count": 10,
   "id": "3545dc7e",
   "metadata": {},
   "outputs": [
    {
     "name": "stdout",
     "output_type": "stream",
     "text": [
      "5\n"
     ]
    }
   ],
   "source": [
    "list_angka=[11,5,70,102,12.4,9]\n",
    "print(min(list_angka))"
   ]
  },
  {
   "cell_type": "markdown",
   "id": "5f54e7a2",
   "metadata": {},
   "source": [
    "# Sorting list"
   ]
  },
  {
   "cell_type": "code",
   "execution_count": 11,
   "id": "438e9ebd",
   "metadata": {},
   "outputs": [
    {
     "name": "stdout",
     "output_type": "stream",
     "text": [
      "[2, 7, 11.3, 44, 80, 105]\n"
     ]
    }
   ],
   "source": [
    "list_angka=[44,2,80,105,11.3,7]\n",
    "list_angka.sort()\n",
    "print(list_angka)"
   ]
  },
  {
   "cell_type": "code",
   "execution_count": 12,
   "id": "cb5b3627",
   "metadata": {},
   "outputs": [
    {
     "name": "stdout",
     "output_type": "stream",
     "text": [
      "[105, 80, 44, 11.3, 7, 2]\n"
     ]
    }
   ],
   "source": [
    "list_angka=[44,2,80,105,11.3,7]\n",
    "print(sorted(list_angka, reverse=True))"
   ]
  },
  {
   "cell_type": "markdown",
   "id": "ef178102",
   "metadata": {},
   "source": [
    "# Splitting string ke dalam list"
   ]
  },
  {
   "cell_type": "code",
   "execution_count": 14,
   "id": "086f2841",
   "metadata": {},
   "outputs": [
    {
     "name": "stdout",
     "output_type": "stream",
     "text": [
      "H\n",
      "E\n",
      "L\n",
      "L\n",
      "O\n"
     ]
    }
   ],
   "source": [
    "karakter=['H','E','L','L','O']\n",
    "for i in karakter:\n",
    "    print(i)"
   ]
  },
  {
   "cell_type": "code",
   "execution_count": 15,
   "id": "9a2e03c0",
   "metadata": {},
   "outputs": [
    {
     "name": "stdout",
     "output_type": "stream",
     "text": [
      "Apel-Anggur-Pisang-Mangga-Jambu\n"
     ]
    }
   ],
   "source": [
    "buah = ['Apel','Anggur','Pisang','Mangga','Jambu']\n",
    "print('-'.join(['Apel','Anggur','Pisang','Mangga','Jambu']))"
   ]
  }
 ],
 "metadata": {
  "kernelspec": {
   "display_name": "Python 3 (ipykernel)",
   "language": "python",
   "name": "python3"
  },
  "language_info": {
   "codemirror_mode": {
    "name": "ipython",
    "version": 3
   },
   "file_extension": ".py",
   "mimetype": "text/x-python",
   "name": "python",
   "nbconvert_exporter": "python",
   "pygments_lexer": "ipython3",
   "version": "3.9.12"
  }
 },
 "nbformat": 4,
 "nbformat_minor": 5
}
