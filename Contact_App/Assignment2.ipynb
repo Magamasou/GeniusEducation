{
 "cells": [
  {
   "cell_type": "code",
   "execution_count": 1,
   "id": "4af9a7bc",
   "metadata": {},
   "outputs": [],
   "source": [
    "pi = 3.14"
   ]
  },
  {
   "cell_type": "code",
   "execution_count": 2,
   "id": "d07fb430",
   "metadata": {},
   "outputs": [
    {
     "name": "stdout",
     "output_type": "stream",
     "text": [
      "3.14\n"
     ]
    }
   ],
   "source": [
    "print(pi)"
   ]
  },
  {
   "cell_type": "code",
   "execution_count": 3,
   "id": "a70cd8be",
   "metadata": {},
   "outputs": [],
   "source": [
    "kata_favorit = \"Indonesia Bisa\""
   ]
  },
  {
   "cell_type": "code",
   "execution_count": 4,
   "id": "46434bbf",
   "metadata": {},
   "outputs": [
    {
     "name": "stdout",
     "output_type": "stream",
     "text": [
      "Indonesia Bisa\n"
     ]
    }
   ],
   "source": [
    "print(kata_favorit)"
   ]
  },
  {
   "cell_type": "code",
   "execution_count": 5,
   "id": "010b431c",
   "metadata": {},
   "outputs": [],
   "source": [
    "kata = \"Angka float pada Pi : 0.314\""
   ]
  },
  {
   "cell_type": "code",
   "execution_count": 6,
   "id": "87a58a1d",
   "metadata": {},
   "outputs": [
    {
     "name": "stdout",
     "output_type": "stream",
     "text": [
      "Angka float\n"
     ]
    }
   ],
   "source": [
    "print(kata[0:11])"
   ]
  },
  {
   "cell_type": "code",
   "execution_count": 7,
   "id": "813779ef",
   "metadata": {},
   "outputs": [],
   "source": [
    "buah = \"rambutan\""
   ]
  },
  {
   "cell_type": "code",
   "execution_count": 8,
   "id": "bbaba8b9",
   "metadata": {},
   "outputs": [
    {
     "name": "stdout",
     "output_type": "stream",
     "text": [
      "ram\n"
     ]
    }
   ],
   "source": [
    "print(buah[0:3])"
   ]
  },
  {
   "cell_type": "code",
   "execution_count": 9,
   "id": "37c03129",
   "metadata": {},
   "outputs": [
    {
     "name": "stdout",
     "output_type": "stream",
     "text": [
      "butan\n"
     ]
    }
   ],
   "source": [
    "print(buah[3:])"
   ]
  },
  {
   "cell_type": "code",
   "execution_count": 10,
   "id": "49b3349d",
   "metadata": {},
   "outputs": [
    {
     "name": "stdout",
     "output_type": "stream",
     "text": [
      "3\n"
     ]
    }
   ],
   "source": [
    "posisib = buah.find(\"b\")\n",
    "print(posisib)"
   ]
  },
  {
   "cell_type": "code",
   "execution_count": 11,
   "id": "48195dca",
   "metadata": {},
   "outputs": [
    {
     "name": "stdout",
     "output_type": "stream",
     "text": [
      "butan\n"
     ]
    }
   ],
   "source": [
    "print(buah[posisib:])"
   ]
  },
  {
   "cell_type": "code",
   "execution_count": 12,
   "id": "576c54fd",
   "metadata": {},
   "outputs": [
    {
     "name": "stdout",
     "output_type": "stream",
     "text": [
      "22\n"
     ]
    }
   ],
   "source": [
    "posisi0 = kata.find(\"0\")\n",
    "print(posisi0)"
   ]
  },
  {
   "cell_type": "code",
   "execution_count": 13,
   "id": "78b28ada",
   "metadata": {},
   "outputs": [
    {
     "name": "stdout",
     "output_type": "stream",
     "text": [
      "0.314\n"
     ]
    }
   ],
   "source": [
    "print(kata[posisi0:])"
   ]
  },
  {
   "cell_type": "code",
   "execution_count": 14,
   "id": "8c6a3c6f",
   "metadata": {},
   "outputs": [],
   "source": [
    "coba = \"bali\""
   ]
  },
  {
   "cell_type": "code",
   "execution_count": 15,
   "id": "59994d25",
   "metadata": {},
   "outputs": [
    {
     "name": "stdout",
     "output_type": "stream",
     "text": [
      "Bali\n"
     ]
    }
   ],
   "source": [
    "print(coba.capitalize())"
   ]
  },
  {
   "cell_type": "code",
   "execution_count": 16,
   "id": "25a9408c",
   "metadata": {},
   "outputs": [
    {
     "name": "stdout",
     "output_type": "stream",
     "text": [
      "BALI\n"
     ]
    }
   ],
   "source": [
    "print(coba.upper())"
   ]
  },
  {
   "cell_type": "code",
   "execution_count": 17,
   "id": "2fad6c6f",
   "metadata": {},
   "outputs": [
    {
     "name": "stdout",
     "output_type": "stream",
     "text": [
      " bali\n"
     ]
    }
   ],
   "source": [
    "print(\" \"+coba)"
   ]
  },
  {
   "cell_type": "code",
   "execution_count": 18,
   "id": "13a9c310",
   "metadata": {},
   "outputs": [],
   "source": [
    "insertspasi = \"co\"+\" \"+\"ba\""
   ]
  },
  {
   "cell_type": "code",
   "execution_count": 19,
   "id": "0b6d9cc0",
   "metadata": {},
   "outputs": [
    {
     "name": "stdout",
     "output_type": "stream",
     "text": [
      "co ba\n"
     ]
    }
   ],
   "source": [
    "print(insertspasi)"
   ]
  },
  {
   "cell_type": "code",
   "execution_count": 20,
   "id": "ae745a17",
   "metadata": {},
   "outputs": [
    {
     "name": "stdout",
     "output_type": "stream",
     "text": [
      "bakpi\n"
     ]
    }
   ],
   "source": [
    "cobabaru = coba.replace(\"l\",\"kp\")\n",
    "print(cobabaru)"
   ]
  },
  {
   "cell_type": "code",
   "execution_count": 21,
   "id": "bc240b63",
   "metadata": {},
   "outputs": [],
   "source": [
    "kata = \"   monas\""
   ]
  },
  {
   "cell_type": "code",
   "execution_count": 22,
   "id": "52125854",
   "metadata": {},
   "outputs": [
    {
     "name": "stdout",
     "output_type": "stream",
     "text": [
      "monas\n"
     ]
    }
   ],
   "source": [
    "print(kata.strip())"
   ]
  },
  {
   "cell_type": "code",
   "execution_count": 23,
   "id": "e7d830e1",
   "metadata": {},
   "outputs": [],
   "source": [
    "kata1 = \"buah\"\n",
    "kata2 = \"mangga\""
   ]
  },
  {
   "cell_type": "code",
   "execution_count": 24,
   "id": "f4ce0a38",
   "metadata": {},
   "outputs": [
    {
     "name": "stdout",
     "output_type": "stream",
     "text": [
      "buah mangga\n"
     ]
    }
   ],
   "source": [
    "print(kata1+\" \"+kata2)"
   ]
  },
  {
   "cell_type": "code",
   "execution_count": 25,
   "id": "4658c6b4",
   "metadata": {},
   "outputs": [
    {
     "name": "stdout",
     "output_type": "stream",
     "text": [
      "Masukkan nama : Syifauddin\n",
      "Syifauddin\n"
     ]
    }
   ],
   "source": [
    "nama=input(\"Masukkan nama : \")\n",
    "print(nama )\n"
   ]
  },
  {
   "cell_type": "code",
   "execution_count": 26,
   "id": "09b15618",
   "metadata": {},
   "outputs": [],
   "source": [
    "txt = \"Sempat-sempatnya semut-semut itu saling senyum senyum dan salam-salaman sama semut-semut yang mau senyum-senyum dan salam-salaman sama semut-semut itu\""
   ]
  },
  {
   "cell_type": "code",
   "execution_count": 27,
   "id": "f4544914",
   "metadata": {},
   "outputs": [
    {
     "name": "stdout",
     "output_type": "stream",
     "text": [
      "6\n"
     ]
    }
   ],
   "source": [
    "print(txt.count(\"semut\"))"
   ]
  },
  {
   "cell_type": "code",
   "execution_count": 28,
   "id": "c293f1ca",
   "metadata": {},
   "outputs": [],
   "source": [
    "txt = \"Saya suka sama suami situ sebab dia situ suka senyum senyum sama saya\""
   ]
  },
  {
   "cell_type": "code",
   "execution_count": 29,
   "id": "79cf3606",
   "metadata": {},
   "outputs": [
    {
     "name": "stdout",
     "output_type": "stream",
     "text": [
      "15\n"
     ]
    }
   ],
   "source": [
    "posisi1 = txt.find(\"suami\")\n",
    "print(posisi1)"
   ]
  },
  {
   "cell_type": "code",
   "execution_count": 30,
   "id": "67c5041e",
   "metadata": {},
   "outputs": [
    {
     "name": "stdout",
     "output_type": "stream",
     "text": [
      "26\n"
     ]
    }
   ],
   "source": [
    "posisi2 = txt.find(\"sebab\")\n",
    "print(posisi2)"
   ]
  },
  {
   "cell_type": "code",
   "execution_count": 38,
   "id": "da05eeea",
   "metadata": {},
   "outputs": [
    {
     "name": "stdout",
     "output_type": "stream",
     "text": [
      "suami \n"
     ]
    }
   ],
   "source": [
    "suami = txt[posisi1:posisi2-5]\n",
    "print(suami)"
   ]
  },
  {
   "cell_type": "code",
   "execution_count": 40,
   "id": "c66be1b2",
   "metadata": {},
   "outputs": [
    {
     "data": {
      "text/plain": [
       "6"
      ]
     },
     "execution_count": 40,
     "metadata": {},
     "output_type": "execute_result"
    }
   ],
   "source": [
    "len(suami)"
   ]
  }
 ],
 "metadata": {
  "kernelspec": {
   "display_name": "Python 3 (ipykernel)",
   "language": "python",
   "name": "python3"
  },
  "language_info": {
   "codemirror_mode": {
    "name": "ipython",
    "version": 3
   },
   "file_extension": ".py",
   "mimetype": "text/x-python",
   "name": "python",
   "nbconvert_exporter": "python",
   "pygments_lexer": "ipython3",
   "version": "3.9.12"
  }
 },
 "nbformat": 4,
 "nbformat_minor": 5
}
